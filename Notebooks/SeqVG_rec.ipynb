{
 "cells": [
  {
   "cell_type": "code",
   "execution_count": 3,
   "metadata": {},
   "outputs": [],
   "source": [
    "import sys\n",
    "from pathlib import Path\n",
    "\n",
    "import numpy as np\n",
    "from PIL import Image\n",
    "import matplotlib.pyplot as plt\n",
    "from skimage.measure import compare_ssim\n",
    "from skimage.measure import compare_psnr\n",
    "\n",
    "import chainer\n",
    "import chainer.functions as F\n",
    "\n",
    "sys.path.append('../experiments/SeqVG/')\n",
    "from net import Encoder, Decoder, Discriminator\n",
    "%matplotlib inline"
   ]
  },
  {
   "cell_type": "code",
   "execution_count": 4,
   "metadata": {},
   "outputs": [
    {
     "name": "stdout",
     "output_type": "stream",
     "text": [
      "/home/shimo/CMULAB/Spatio-Temporal-SR/Notebooks\n",
      "/home/shimo/CMULAB/Spatio-Temporal-SR\n",
      "/home/shimo/CMULAB/Spatio-Temporal-SR/results/SeqVG\n",
      "/home/shimo/CMULAB/Spatio-Temporal-SR/models/SeqVG\n"
     ]
    }
   ],
   "source": [
    "FILE_PATH = Path('.').resolve()\n",
    "ROOT_PATH = FILE_PATH.parent\n",
    "RESULT_PATH = ROOT_PATH.joinpath('results/SeqVG')\n",
    "MODEL_PATH = ROOT_PATH.joinpath('models/SeqVG')\n",
    "print(FILE_PATH)\n",
    "print(ROOT_PATH)\n",
    "print(RESULT_PATH)\n",
    "print(MODEL_PATH)"
   ]
  },
  {
   "cell_type": "code",
   "execution_count": 5,
   "metadata": {},
   "outputs": [
    {
     "name": "stdout",
     "output_type": "stream",
     "text": [
      "(1000, 20, 64, 64) float32 1.0\n",
      "(9000, 20, 64, 64) float32 1.0\n"
     ]
    }
   ],
   "source": [
    "test_data = np.load(ROOT_PATH.joinpath('datasets/moving_mnist_test.npy')) \\\n",
    "              .astype(np.float32) / 255.0\n",
    "train_data = np.load(ROOT_PATH.joinpath('datasets/moving_mnist_train.npy')) \\\n",
    "               .astype(np.float32) / 255.0\n",
    "print(test_data.shape, test_data.dtype, train_data.max())\n",
    "print(train_data.shape, train_data.dtype, train_data.max())"
   ]
  },
  {
   "cell_type": "code",
   "execution_count": 6,
   "metadata": {},
   "outputs": [],
   "source": [
    "encoder = Encoder(64, 1, 100, 8)\n",
    "decoder = Decoder(64, 1, 100, 8)\n",
    "\n",
    "chainer.serializers.load_npz(MODEL_PATH.joinpath('mmnist_test',\n",
    "    'Encoder_SeqVG_latent100_ch8_coef11.0_coef10.5.npz'), encoder)\n",
    "chainer.serializers.load_npz(MODEL_PATH.joinpath('mmnist_test',\n",
    "    'Decoder_SeqVG_latent100_ch8_coef11.0_coef10.5.npz'), decoder)"
   ]
  },
  {
   "cell_type": "code",
   "execution_count": 7,
   "metadata": {},
   "outputs": [
    {
     "data": {
      "image/png": "[encoded data removed]",
      "text/plain": [
       "<Figure size 432x288 with 1 Axes>"
      ]
     },
     "metadata": {
      "needs_background": "light"
     },
     "output_type": "display_data"
    },
    {
     "data": {
      "image/png": "[encoded data removed]",
      "text/plain": [
       "<Figure size 432x288 with 1 Axes>"
      ]
     },
     "metadata": {
      "needs_background": "light"
     },
     "output_type": "display_data"
    }
   ],
   "source": [
    "x = train_data[:100, 0,:].reshape(100, 1, 64, 64)\n",
    "with chainer.using_config('train', False), chainer.no_backprop_mode():\n",
    "    x̃ = (decoder(encoder(x)[0])).array.reshape(10, 10, 64, 64)\n",
    "x̃ = np.clip(x̃, 0, 1).transpose(0, 2, 1, 3).reshape(640, 640)\n",
    "plt.imshow(x̃)\n",
    "plt.show()\n",
    "Image.fromarray((x̃*255).astype(np.uint8)).save('train_rec.jpeg')\n",
    "x = x.reshape(10, 10, 64, 64).transpose(0, 2, 1, 3).reshape(640, 640)\n",
    "Image.fromarray((x*255).astype(np.uint8)).save('train_gt.jpeg')\n",
    "\n",
    "x = test_data[:100, 0,:].reshape(100, 1, 64, 64)\n",
    "with chainer.using_config('train', False), chainer.no_backprop_mode():\n",
    "    x̃ = (decoder(encoder(x)[0])).array.reshape(10, 10, 64, 64)\n",
    "x̃ = np.clip(x̃, 0, 1).transpose(0, 2, 1, 3).reshape(640, 640)\n",
    "plt.imshow(x̃)\n",
    "plt.show()\n",
    "Image.fromarray((x̃*255).astype(np.uint8)).save('test_rec.jpeg')\n",
    "x = x.reshape(10, 10, 64, 64).transpose(0, 2, 1, 3).reshape(640, 640)\n",
    "Image.fromarray((x*255).astype(np.uint8)).save('test_gt.jpeg')"
   ]
  },
  {
   "cell_type": "code",
   "execution_count": null,
   "metadata": {},
   "outputs": [],
   "source": []
  },
  {
   "cell_type": "code",
   "execution_count": 8,
   "metadata": {},
   "outputs": [
    {
     "data": {
      "image/png": "[encoded data removed]",
      "text/plain": [
       "<Figure size 432x288 with 1 Axes>"
      ]
     },
     "metadata": {
      "needs_background": "light"
     },
     "output_type": "display_data"
    },
    {
     "data": {
      "image/png": "[encoded data removed]",
      "text/plain": [
       "<Figure size 432x288 with 1 Axes>"
      ]
     },
     "metadata": {
      "needs_background": "light"
     },
     "output_type": "display_data"
    }
   ],
   "source": [
    "x1 = train_data[0, 0,:].reshape(1, 1, 64, 64)\n",
    "x3 = train_data[0, 5,:].reshape(1, 1, 64, 64)\n",
    "with chainer.using_config('train', False), chainer.no_backprop_mode():\n",
    "    z1 = encoder(x1)[0].array\n",
    "    z3 = encoder(x3)[0].array\n",
    "    z_seq = z1 + np.kron(np.linspace(0, 1, 100).astype(np.float32).reshape(100, 1, 1), (z3 - z1))\n",
    "    x_seq = F.sigmoid(decoder(z_seq.reshape(100, 100))).array\n",
    "    x_seq_img = x_seq.reshape(10, 10, 64, 64).transpose(0, 2, 1, 3).reshape(640, 640)\n",
    "\n",
    "x_seq_img = np.clip(x_seq_img * 255, 0, 255).astype(np.uint8)\n",
    "plt.imshow(x_seq_img)\n",
    "plt.show()\n",
    "Image.fromarray(x_seq_img).save('train_seq.png')\n",
    "\n",
    "images = []\n",
    "for idx, img in enumerate(x_seq):\n",
    "        img = (img.reshape(64, 64) * 255).astype(np.uint8)\n",
    "        img = Image.fromarray(img).convert('P')\n",
    "        images.append(img)\n",
    "images[0].save('train_seq_ani.gif',\n",
    "               save_all=True, append_images=images[1:], optimize=False, duration=40, loop=0)\n",
    "\n",
    "x1 = test_data[0, 0,:].reshape(1, 1, 64, 64)\n",
    "x3 = test_data[0, 5,:].reshape(1, 1, 64, 64)\n",
    "with chainer.using_config('train', False), chainer.no_backprop_mode():\n",
    "    z1 = encoder(x1)[0].array\n",
    "    z3 = encoder(x3)[0].array\n",
    "    z_seq = z1 + np.kron(np.linspace(0, 1, 100).astype(np.float32).reshape(100, 1, 1), (z3 - z1))\n",
    "    x_seq = F.sigmoid(decoder(z_seq.reshape(100, 100))).array\n",
    "    x_seq_img = x_seq.reshape(10, 10, 64, 64).transpose(0, 2, 1, 3).reshape(640, 640)\n",
    "\n",
    "x_seq_img = np.clip(x_seq_img * 255, 0, 255).astype(np.uint8)\n",
    "plt.imshow(x_seq_img)\n",
    "plt.show()\n",
    "Image.fromarray(x_seq_img).save('test_seq.png')\n",
    "\n",
    "images = []\n",
    "for idx, img in enumerate(x_seq):\n",
    "        img = (img.reshape(64, 64) * 255).astype(np.uint8)\n",
    "        img = Image.fromarray(img).convert('P')\n",
    "        images.append(img)\n",
    "images[0].save('test_seq_ani.gif',\n",
    "               save_all=True, append_images=images[1:], optimize=False, duration=40, loop=0)"
   ]
  },
  {
   "cell_type": "code",
   "execution_count": 9,
   "metadata": {},
   "outputs": [
    {
     "data": {
      "image/png": "[encoded data removed]",
      "text/plain": [
       "<Figure size 432x288 with 1 Axes>"
      ]
     },
     "metadata": {
      "needs_background": "light"
     },
     "output_type": "display_data"
    }
   ],
   "source": [
    "with chainer.using_config('train', False), chainer.no_backprop_mode():\n",
    "    z = np.random.randn(25, 100).astype(np.float32)\n",
    "    x = F.sigmoid(decoder(z)).array\n",
    "    x = x.reshape(5, 5, 64, 64).transpose(0, 2, 1, 3).reshape(64*5, 64*5)\n",
    "\n",
    "x = np.clip(x * 255, 0, 255).astype(np.uint8)\n",
    "plt.imshow(x)\n",
    "plt.show()\n",
    "Image.fromarray(x).save('noise.png')"
   ]
  },
  {
   "cell_type": "code",
   "execution_count": null,
   "metadata": {},
   "outputs": [],
   "source": []
  }
 ],
 "metadata": {
  "kernelspec": {
   "display_name": "Python 3",
   "language": "python",
   "name": "python3"
  },
  "language_info": {
   "codemirror_mode": {
    "name": "ipython",
    "version": 3
   },
   "file_extension": ".py",
   "mimetype": "text/x-python",
   "name": "python",
   "nbconvert_exporter": "python",
   "pygments_lexer": "ipython3",
   "version": "3.7.1"
  }
 },
 "nbformat": 4,
 "nbformat_minor": 2
}
