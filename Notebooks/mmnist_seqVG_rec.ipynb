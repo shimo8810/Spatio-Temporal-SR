{
 "cells": [
  {
   "cell_type": "code",
   "execution_count": 1,
   "metadata": {},
   "outputs": [],
   "source": [
    "import sys\n",
    "from pathlib import Path\n",
    "\n",
    "import numpy as np\n",
    "from PIL import Image\n",
    "import matplotlib.pyplot as plt\n",
    "from skimage.measure import compare_ssim\n",
    "from skimage.measure import compare_psnr\n",
    "\n",
    "import chainer\n",
    "import chainer.functions as F\n",
    "\n",
    "sys.path.append('../experiments/SeqVG/')\n",
    "from net import Encoder, Decoder, Discriminator\n",
    "%matplotlib inline"
   ]
  },
  {
   "cell_type": "code",
   "execution_count": 2,
   "metadata": {},
   "outputs": [
    {
     "name": "stdout",
     "output_type": "stream",
     "text": [
      "/home/shimo/CMULAB/Spatio-Temporal-SR/Notebooks\n",
      "/home/shimo/CMULAB/Spatio-Temporal-SR\n",
      "/home/shimo/CMULAB/Spatio-Temporal-SR/results/SeqVG\n",
      "/home/shimo/CMULAB/Spatio-Temporal-SR/models/SeqVG\n"
     ]
    }
   ],
   "source": [
    "FILE_PATH = Path('.').resolve()\n",
    "ROOT_PATH = FILE_PATH.parent\n",
    "RESULT_PATH = ROOT_PATH.joinpath('results/SeqVG')\n",
    "MODEL_PATH = ROOT_PATH.joinpath('models/SeqVG')\n",
    "print(FILE_PATH)\n",
    "print(ROOT_PATH)\n",
    "print(RESULT_PATH)\n",
    "print(MODEL_PATH)"
   ]
  }
 ],
 "metadata": {
  "kernelspec": {
   "display_name": "Python 3",
   "language": "python",
   "name": "python3"
  },
  "language_info": {
   "codemirror_mode": {
    "name": "ipython",
    "version": 3
   },
   "file_extension": ".py",
   "mimetype": "text/x-python",
   "name": "python",
   "nbconvert_exporter": "python",
   "pygments_lexer": "ipython3",
   "version": "3.7.1"
  }
 },
 "nbformat": 4,
 "nbformat_minor": 2
}
