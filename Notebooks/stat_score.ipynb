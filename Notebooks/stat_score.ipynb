{
 "cells": [
  {
   "cell_type": "code",
   "execution_count": 1,
   "metadata": {},
   "outputs": [],
   "source": [
    "import pandas as pd\n",
    "import numpy as np\n",
    "import matplotlib.pyplot as plt\n",
    "import seaborn as sns\n",
    "%matplotlib inline"
   ]
  },
  {
   "cell_type": "code",
   "execution_count": 2,
   "metadata": {},
   "outputs": [],
   "source": [
    "sns.set_style('darkgrid')"
   ]
  },
  {
   "cell_type": "code",
   "execution_count": 55,
   "metadata": {},
   "outputs": [],
   "source": [
    "vae_test = pd.read_csv('./images/VAE/VAE_test_score.csv', index_col=0)\n",
    "vae_train = pd.read_csv('./images/VAE/VAE_train_score.csv', index_col=0)\n",
    "\n",
    "seqvae_test = pd.read_csv('./images/SeqVAE/SeqVAE_test_score.csv', index_col=0)\n",
    "seqvae_train = pd.read_csv('./images/SeqVAE/SeqVAE_train_score.csv', index_col=0)\n",
    "\n",
    "svg_test = pd.read_csv('./images/SeqVG/SeqVG_test_score.csv', index_col=0)\n",
    "svg_train = pd.read_csv('./images/SeqVG/SeqVG_test_score.csv', index_col=0).rename(columns={'test_psnr': 'train_psnr', 'test_ssim': 'train_ssim'})\n",
    "\n",
    "ssvg_test = pd.read_csv('./images/SSVG/SSVG_test_score.csv', index_col=0)\n",
    "ssvg_train = pd.read_csv('./images/SSVG/SSVG_train_score.csv', index_col=0)"
   ]
  },
  {
   "cell_type": "code",
   "execution_count": 56,
   "metadata": {},
   "outputs": [
    {
     "data": {
      "text/html": [
       "<div>\n",
       "<style scoped>\n",
       "    .dataframe tbody tr th:only-of-type {\n",
       "        vertical-align: middle;\n",
       "    }\n",
       "\n",
       "    .dataframe tbody tr th {\n",
       "        vertical-align: top;\n",
       "    }\n",
       "\n",
       "    .dataframe thead tr th {\n",
       "        text-align: left;\n",
       "    }\n",
       "</style>\n",
       "<table border=\"1\" class=\"dataframe\">\n",
       "  <thead>\n",
       "    <tr>\n",
       "      <th></th>\n",
       "      <th colspan=\"2\" halign=\"left\">VAE</th>\n",
       "      <th colspan=\"2\" halign=\"left\">SV</th>\n",
       "      <th colspan=\"2\" halign=\"left\">SVG</th>\n",
       "      <th colspan=\"2\" halign=\"left\">SSVG</th>\n",
       "    </tr>\n",
       "    <tr>\n",
       "      <th></th>\n",
       "      <th>test_psnr</th>\n",
       "      <th>test_ssim</th>\n",
       "      <th>test_psnr</th>\n",
       "      <th>test_ssim</th>\n",
       "      <th>test_psnr</th>\n",
       "      <th>test_ssim</th>\n",
       "      <th>test_psnr</th>\n",
       "      <th>test_ssim</th>\n",
       "    </tr>\n",
       "  </thead>\n",
       "  <tbody>\n",
       "    <tr>\n",
       "      <th>0</th>\n",
       "      <td>22.083142</td>\n",
       "      <td>0.947071</td>\n",
       "      <td>18.898992</td>\n",
       "      <td>0.867673</td>\n",
       "      <td>18.546197</td>\n",
       "      <td>0.862954</td>\n",
       "      <td>20.559044</td>\n",
       "      <td>0.933347</td>\n",
       "    </tr>\n",
       "    <tr>\n",
       "      <th>1</th>\n",
       "      <td>19.233912</td>\n",
       "      <td>0.895725</td>\n",
       "      <td>20.401716</td>\n",
       "      <td>0.921050</td>\n",
       "      <td>17.763434</td>\n",
       "      <td>0.859378</td>\n",
       "      <td>18.215365</td>\n",
       "      <td>0.876641</td>\n",
       "    </tr>\n",
       "    <tr>\n",
       "      <th>2</th>\n",
       "      <td>21.710571</td>\n",
       "      <td>0.933920</td>\n",
       "      <td>20.670988</td>\n",
       "      <td>0.873885</td>\n",
       "      <td>20.311531</td>\n",
       "      <td>0.884845</td>\n",
       "      <td>21.900672</td>\n",
       "      <td>0.912741</td>\n",
       "    </tr>\n",
       "    <tr>\n",
       "      <th>3</th>\n",
       "      <td>22.058702</td>\n",
       "      <td>0.944741</td>\n",
       "      <td>20.081193</td>\n",
       "      <td>0.889986</td>\n",
       "      <td>17.534184</td>\n",
       "      <td>0.840952</td>\n",
       "      <td>21.647916</td>\n",
       "      <td>0.931670</td>\n",
       "    </tr>\n",
       "    <tr>\n",
       "      <th>4</th>\n",
       "      <td>21.904434</td>\n",
       "      <td>0.927328</td>\n",
       "      <td>21.473558</td>\n",
       "      <td>0.920353</td>\n",
       "      <td>22.355644</td>\n",
       "      <td>0.929832</td>\n",
       "      <td>22.701696</td>\n",
       "      <td>0.944972</td>\n",
       "    </tr>\n",
       "  </tbody>\n",
       "</table>\n",
       "</div>"
      ],
      "text/plain": [
       "         VAE                   SV                  SVG                 SSVG  \\\n",
       "   test_psnr test_ssim  test_psnr test_ssim  test_psnr test_ssim  test_psnr   \n",
       "0  22.083142  0.947071  18.898992  0.867673  18.546197  0.862954  20.559044   \n",
       "1  19.233912  0.895725  20.401716  0.921050  17.763434  0.859378  18.215365   \n",
       "2  21.710571  0.933920  20.670988  0.873885  20.311531  0.884845  21.900672   \n",
       "3  22.058702  0.944741  20.081193  0.889986  17.534184  0.840952  21.647916   \n",
       "4  21.904434  0.927328  21.473558  0.920353  22.355644  0.929832  22.701696   \n",
       "\n",
       "             \n",
       "  test_ssim  \n",
       "0  0.933347  \n",
       "1  0.876641  \n",
       "2  0.912741  \n",
       "3  0.931670  \n",
       "4  0.944972  "
      ]
     },
     "execution_count": 56,
     "metadata": {},
     "output_type": "execute_result"
    }
   ],
   "source": [
    "test_data = pd.concat([vae_test, seqvae_test, svg_test, ssvg_test], axis=1, keys=['VAE', 'SV', 'SVG', 'SSVG'])\n",
    "test_data.head()"
   ]
  },
  {
   "cell_type": "code",
   "execution_count": 57,
   "metadata": {},
   "outputs": [
    {
     "data": {
      "text/html": [
       "<div>\n",
       "<style scoped>\n",
       "    .dataframe tbody tr th:only-of-type {\n",
       "        vertical-align: middle;\n",
       "    }\n",
       "\n",
       "    .dataframe tbody tr th {\n",
       "        vertical-align: top;\n",
       "    }\n",
       "\n",
       "    .dataframe thead tr th {\n",
       "        text-align: left;\n",
       "    }\n",
       "</style>\n",
       "<table border=\"1\" class=\"dataframe\">\n",
       "  <thead>\n",
       "    <tr>\n",
       "      <th></th>\n",
       "      <th colspan=\"2\" halign=\"left\">VAE</th>\n",
       "      <th colspan=\"2\" halign=\"left\">SV</th>\n",
       "      <th colspan=\"2\" halign=\"left\">SVG</th>\n",
       "      <th colspan=\"2\" halign=\"left\">SSVG</th>\n",
       "    </tr>\n",
       "    <tr>\n",
       "      <th></th>\n",
       "      <th>train_psnr</th>\n",
       "      <th>train_ssim</th>\n",
       "      <th>train_psnr</th>\n",
       "      <th>train_ssim</th>\n",
       "      <th>train_psnr</th>\n",
       "      <th>train_ssim</th>\n",
       "      <th>train_psnr</th>\n",
       "      <th>train_ssim</th>\n",
       "    </tr>\n",
       "  </thead>\n",
       "  <tbody>\n",
       "    <tr>\n",
       "      <th>0</th>\n",
       "      <td>21.770369</td>\n",
       "      <td>0.935060</td>\n",
       "      <td>19.894186</td>\n",
       "      <td>0.882456</td>\n",
       "      <td>18.546197</td>\n",
       "      <td>0.862954</td>\n",
       "      <td>20.905559</td>\n",
       "      <td>0.932182</td>\n",
       "    </tr>\n",
       "    <tr>\n",
       "      <th>1</th>\n",
       "      <td>21.514484</td>\n",
       "      <td>0.928219</td>\n",
       "      <td>20.644304</td>\n",
       "      <td>0.883119</td>\n",
       "      <td>17.763434</td>\n",
       "      <td>0.859378</td>\n",
       "      <td>22.048291</td>\n",
       "      <td>0.914299</td>\n",
       "    </tr>\n",
       "    <tr>\n",
       "      <th>2</th>\n",
       "      <td>21.473487</td>\n",
       "      <td>0.930206</td>\n",
       "      <td>21.742690</td>\n",
       "      <td>0.920725</td>\n",
       "      <td>20.311531</td>\n",
       "      <td>0.884845</td>\n",
       "      <td>22.992345</td>\n",
       "      <td>0.959027</td>\n",
       "    </tr>\n",
       "    <tr>\n",
       "      <th>3</th>\n",
       "      <td>20.800856</td>\n",
       "      <td>0.923981</td>\n",
       "      <td>21.319237</td>\n",
       "      <td>0.900901</td>\n",
       "      <td>17.534184</td>\n",
       "      <td>0.840952</td>\n",
       "      <td>20.400309</td>\n",
       "      <td>0.926249</td>\n",
       "    </tr>\n",
       "    <tr>\n",
       "      <th>4</th>\n",
       "      <td>21.813216</td>\n",
       "      <td>0.947926</td>\n",
       "      <td>20.618409</td>\n",
       "      <td>0.927024</td>\n",
       "      <td>22.355644</td>\n",
       "      <td>0.929832</td>\n",
       "      <td>19.073978</td>\n",
       "      <td>0.904252</td>\n",
       "    </tr>\n",
       "  </tbody>\n",
       "</table>\n",
       "</div>"
      ],
      "text/plain": [
       "         VAE                    SV                   SVG             \\\n",
       "  train_psnr train_ssim train_psnr train_ssim train_psnr train_ssim   \n",
       "0  21.770369   0.935060  19.894186   0.882456  18.546197   0.862954   \n",
       "1  21.514484   0.928219  20.644304   0.883119  17.763434   0.859378   \n",
       "2  21.473487   0.930206  21.742690   0.920725  20.311531   0.884845   \n",
       "3  20.800856   0.923981  21.319237   0.900901  17.534184   0.840952   \n",
       "4  21.813216   0.947926  20.618409   0.927024  22.355644   0.929832   \n",
       "\n",
       "        SSVG             \n",
       "  train_psnr train_ssim  \n",
       "0  20.905559   0.932182  \n",
       "1  22.048291   0.914299  \n",
       "2  22.992345   0.959027  \n",
       "3  20.400309   0.926249  \n",
       "4  19.073978   0.904252  "
      ]
     },
     "execution_count": 57,
     "metadata": {},
     "output_type": "execute_result"
    }
   ],
   "source": [
    "train_data = pd.concat([vae_train, seqvae_train, svg_train, ssvg_train], axis=1, keys=['VAE', 'SV', 'SVG', 'SSVG'])\n",
    "train_data.head()"
   ]
  },
  {
   "cell_type": "code",
   "execution_count": 58,
   "metadata": {},
   "outputs": [
    {
     "data": {
      "image/png": "[encoded data removed]",
      "text/plain": [
       "<Figure size 432x288 with 1 Axes>"
      ]
     },
     "metadata": {},
     "output_type": "display_data"
    }
   ],
   "source": [
    "test_data.xs(['test_psnr'], level=[1], axis=1).plot.box()\n",
    "plt.xlabel('modal')\n",
    "plt.ylabel('PSNR [dB]')\n",
    "plt.savefig('images/comp_test_PSNR.png')"
   ]
  },
  {
   "cell_type": "code",
   "execution_count": 59,
   "metadata": {},
   "outputs": [
    {
     "data": {
      "image/png": "[encoded data removed]",
      "text/plain": [
       "<Figure size 432x288 with 1 Axes>"
      ]
     },
     "metadata": {},
     "output_type": "display_data"
    }
   ],
   "source": [
    "test_data.xs(['test_ssim'], level=[1], axis=1).plot.box()\n",
    "plt.xlabel('modal')\n",
    "plt.ylabel('SSIM')\n",
    "plt.savefig('images/comp_test_SSIM.png')"
   ]
  },
  {
   "cell_type": "code",
   "execution_count": 61,
   "metadata": {},
   "outputs": [
    {
     "data": {
      "image/png": "[encoded data removed]",
      "text/plain": [
       "<Figure size 432x288 with 1 Axes>"
      ]
     },
     "metadata": {},
     "output_type": "display_data"
    }
   ],
   "source": [
    "train_data.xs(['train_psnr'], level=[1], axis=1).plot.box()\n",
    "plt.xlabel('modal')\n",
    "plt.ylabel('PSNR [dB]')\n",
    "plt.savefig('images/comp_train_PSNR.png')"
   ]
  },
  {
   "cell_type": "code",
   "execution_count": 62,
   "metadata": {},
   "outputs": [
    {
     "data": {
      "image/png": "[encoded data removed]",
      "text/plain": [
       "<Figure size 432x288 with 1 Axes>"
      ]
     },
     "metadata": {},
     "output_type": "display_data"
    }
   ],
   "source": [
    "train_data.xs(['train_ssim'], level=[1], axis=1).plot.box()\n",
    "plt.xlabel('modal')\n",
    "plt.ylabel('SSIM')\n",
    "plt.savefig('images/comp_train_SSIM.png')"
   ]
  }
 ],
 "metadata": {
  "kernelspec": {
   "display_name": "Python 3",
   "language": "python",
   "name": "python3"
  },
  "language_info": {
   "codemirror_mode": {
    "name": "ipython",
    "version": 3
   },
   "file_extension": ".py",
   "mimetype": "text/x-python",
   "name": "python",
   "nbconvert_exporter": "python",
   "pygments_lexer": "ipython3",
   "version": "3.7.1"
  }
 },
 "nbformat": 4,
 "nbformat_minor": 2
}
