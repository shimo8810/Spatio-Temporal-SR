{
 "cells": [
  {
   "cell_type": "code",
   "execution_count": 1,
   "metadata": {},
   "outputs": [],
   "source": [
    "from pathlib import Path\n",
    "import numpy as np\n",
    "from PIL import Image\n",
    "import matplotlib.pyplot as plt\n",
    "import chainer\n",
    "from skimage.measure import compare_ssim as ssim\n",
    "import chainer.functions as F\n",
    "from net import SeqResVAE, SeqVAE\n",
    "%matplotlib inline"
   ]
  },
  {
   "cell_type": "code",
   "execution_count": 2,
   "metadata": {},
   "outputs": [
    {
     "name": "stdout",
     "output_type": "stream",
     "text": [
      "/home/shimo/CMULAB/Spatio-Temporal-SR/experiments\n",
      "/home/shimo/CMULAB/Spatio-Temporal-SR\n",
      "/home/shimo/CMULAB/Spatio-Temporal-SR/results/SeqVAE\n",
      "/home/shimo/CMULAB/Spatio-Temporal-SR/models/SeqVAE\n"
     ]
    }
   ],
   "source": [
    "FILE_PATH = Path('.').resolve().parent\n",
    "ROOT_PATH = FILE_PATH.parent\n",
    "RESULT_PATH = ROOT_PATH.joinpath('results/SeqVAE')\n",
    "MODEL_PATH = ROOT_PATH.joinpath('models/SeqVAE')\n",
    "print(FILE_PATH)\n",
    "print(ROOT_PATH)\n",
    "print(RESULT_PATH)\n",
    "print(MODEL_PATH)"
   ]
  },
  {
   "cell_type": "code",
   "execution_count": 3,
   "metadata": {},
   "outputs": [
    {
     "name": "stdout",
     "output_type": "stream",
     "text": [
      "(100, 3, 128, 128) float32\n"
     ]
    }
   ],
   "source": [
    "# obj = 1\n",
    "\n",
    "# print(data_path)\n",
    "all_obj_images = []\n",
    "\n",
    "for obj in range(1, 100 +1):\n",
    "    data_path = ROOT_PATH.joinpath('datasets', 'seq-coil-100', 'obj{}'.format(obj))\n",
    "    img_path = data_path.joinpath('obj{}__0.png'.format(obj))\n",
    "    img = np.array(Image.open(img_path), dtype=np.float32).transpose(2, 0, 1) / 255.0\n",
    "    all_obj_images.append(img)\n",
    "\n",
    "all_obj_images = np.array(all_obj_images)\n",
    "print(all_obj_images.shape, all_obj_images.dtype)"
   ]
  },
  {
   "cell_type": "code",
   "execution_count": 4,
   "metadata": {},
   "outputs": [
    {
     "name": "stdout",
     "output_type": "stream",
     "text": [
      "(72, 3, 128, 128) float32\n"
     ]
    }
   ],
   "source": [
    "seq14_images = []\n",
    "for i in range(72):\n",
    "    data_path = ROOT_PATH.joinpath('datasets', 'seq-coil-100', 'obj14')\n",
    "    img_path = data_path.joinpath('obj14__{}.png'.format(i * 5))\n",
    "    img = np.array(Image.open(img_path), dtype=np.float32).transpose(2, 0, 1) / 255.0\n",
    "    seq14_images.append(img)\n",
    "    \n",
    "seq14_images = np.array(seq14_images)\n",
    "print(seq14_images.shape, seq14_images.dtype)"
   ]
  },
  {
   "cell_type": "code",
   "execution_count": 5,
   "metadata": {},
   "outputs": [],
   "source": [
    "vae = SeqVAE(128, 100, 16)\n",
    "seqvae = SeqVAE(128, 100, 16)\n",
    "chainer.serializers.load_npz(\n",
    "    '/home/shimo/CMULAB/Spatio-Temporal-SR/models/SeqVAE/preSeqVAE_latent100_coef1.0_ch16.npz', vae)\n",
    "chainer.serializers.load_npz(\n",
    "    '/home/shimo/CMULAB/Spatio-Temporal-SR/models/SeqVAE/SeqVAE_latent100_coef11.0_coef11.0_ch16.npz', seqvae)"
   ]
  },
  {
   "cell_type": "code",
   "execution_count": 6,
   "metadata": {},
   "outputs": [],
   "source": [
    "# 再構成 誤差"
   ]
  },
  {
   "cell_type": "code",
   "execution_count": 7,
   "metadata": {},
   "outputs": [],
   "source": [
    "x_gt = all_obj_images \\\n",
    "        .reshape(10, 10, 3, 128, 128).transpose(0, 3, 1, 4, 2).reshape(10 * 128, 10 * 128, 3)\n",
    "x_gt = np.clip(x_gt * 255, 0, 255).astype(np.uint8)\n",
    "Image.fromarray(x_gt).save('Gt_rec.png')\n",
    "\n",
    "with chainer.using_config('train', False), chainer.no_backprop_mode():\n",
    "    x_rec = seqvae(all_obj_images).array \\\n",
    "            .reshape(10, 10, 3, 128, 128).transpose(0, 3, 1, 4, 2).reshape(10 * 128, 10 * 128, 3)\n",
    "    x_rec = np.clip(x_rec * 255, 0, 255).astype(np.uint8)\n",
    "    Image.fromarray(x_rec).save('seqVAE_rec.png')"
   ]
  },
  {
   "cell_type": "code",
   "execution_count": 8,
   "metadata": {},
   "outputs": [],
   "source": [
    "with chainer.using_config('train', False), chainer.no_backprop_mode():\n",
    "    x_rec = vae(all_obj_images).array \\\n",
    "            .reshape(10, 10, 3, 128, 128).transpose(0, 3, 1, 4, 2).reshape(10 * 128, 10 * 128, 3)\n",
    "    x_rec = np.clip(x_rec * 255, 0, 255).astype(np.uint8)\n",
    "    Image.fromarray(x_rec).save('VAE_rec.png')"
   ]
  },
  {
   "cell_type": "code",
   "execution_count": 17,
   "metadata": {},
   "outputs": [],
   "source": [
    "from skimage.measure import compare_ssim\n",
    "from skimage.measure import compare_psnr"
   ]
  },
  {
   "cell_type": "code",
   "execution_count": 20,
   "metadata": {},
   "outputs": [],
   "source": [
    "x_gt = all_obj_images \\\n",
    "        .reshape(100, 3, 128, 128).transpose(0, 2, 3, 1)\n",
    "x_gt = np.clip(x_gt * 255, 0, 255).astype(np.uint8)\n",
    "\n",
    "with chainer.using_config('train', False), chainer.no_backprop_mode():\n",
    "    x_seq = seqvae(all_obj_images).array \\\n",
    "            .reshape(100, 3, 128, 128).transpose(0, 2, 3, 1)\n",
    "    x_seq = np.clip(x_seq * 255, 0, 255).astype(np.uint8)\n",
    "\n",
    "    \n",
    "with chainer.using_config('train', False), chainer.no_backprop_mode():\n",
    "    x_rec = vae(all_obj_images).array \\\n",
    "            .reshape(100, 3, 128, 128).transpose(0, 2, 3, 1)\n",
    "    x_rec = np.clip(x_rec * 255, 0, 255).astype(np.uint8)"
   ]
  },
  {
   "cell_type": "code",
   "execution_count": 34,
   "metadata": {},
   "outputs": [
    {
     "name": "stdout",
     "output_type": "stream",
     "text": [
      "VAE PSNR mean: 28.248479136767838\n",
      "VAE SSIM mean: 0.8509177635796477\n",
      "SeqVAE PSNR mean: 26.700266431272997\n",
      "SeqVAE SSIM mean: 0.8140420913109006\n"
     ]
    }
   ],
   "source": [
    "vae_psnrs = []\n",
    "vae_ssims = []\n",
    "seq_psnrs = []\n",
    "seq_ssims = []\n",
    "\n",
    "for i in range(100):\n",
    "    vae_ssims.append(compare_ssim(x_gt[i], x_rec[i], multichannel=True))\n",
    "    vae_psnrs.append(compare_psnr(x_gt[i], x_rec[i]))\n",
    "    seq_ssims.append(compare_ssim(x_gt[i], x_seq[i], multichannel=True))\n",
    "    seq_psnrs.append(compare_psnr(x_gt[i], x_seq[i]))\n",
    "\n",
    "print('VAE PSNR mean:', np.array(vae_psnrs).mean())\n",
    "print('VAE SSIM mean:', np.array(vae_ssims).mean())\n",
    "\n",
    "print('SeqVAE PSNR mean:', np.array(seq_psnrs).mean())\n",
    "print('SeqVAE SSIM mean:', np.array(seq_ssims).mean())"
   ]
  },
  {
   "cell_type": "code",
   "execution_count": null,
   "metadata": {},
   "outputs": [],
   "source": []
  },
  {
   "cell_type": "code",
   "execution_count": 9,
   "metadata": {},
   "outputs": [
    {
     "name": "stdout",
     "output_type": "stream",
     "text": [
      "(10, 3, 128, 128) float32\n",
      "(10, 3, 128, 128) float32\n"
     ]
    }
   ],
   "source": [
    "in_num = 0\n",
    "out_num = 10 * 5\n",
    "\n",
    "seq_in_images = []\n",
    "seq_out_images = []\n",
    "\n",
    "for obj in [1, 6, 12, 14, 37, 48, 52, 65, 74, 100]:\n",
    "    data_path = ROOT_PATH.joinpath('datasets', 'seq-coil-100', 'obj{}'.format(obj))\n",
    "    img_in_path = data_path.joinpath('obj{}__{}.png'.format(obj, in_num))\n",
    "    img = np.array(Image.open(img_in_path), dtype=np.float32).transpose(2, 0, 1) / 255.0\n",
    "    seq_in_images.append(img)\n",
    "    \n",
    "    img_out_path = data_path.joinpath('obj{}__{}.png'.format(obj, out_num))\n",
    "    img = np.array(Image.open(img_out_path), dtype=np.float32).transpose(2, 0, 1) / 255.0\n",
    "    seq_out_images.append(img)\n",
    "\n",
    "seq_out_images = np.array(seq_out_images)\n",
    "print(seq_out_images.shape, seq_out_images.dtype)\n",
    "seq_in_images = np.array(seq_in_images)\n",
    "print(seq_in_images.shape, seq_in_images.dtype)"
   ]
  },
  {
   "cell_type": "code",
   "execution_count": 10,
   "metadata": {},
   "outputs": [],
   "source": [
    "with chainer.using_config('train', False), chainer.no_backprop_mode():\n",
    "    z_in = seqvae.encode(seq_in_images)[0].array\n",
    "    z_out = seqvae.encode(seq_out_images)[0].array\n",
    "    z_seq = z_in + np.kron(np.linspace(0, 1, 10).astype(np.float32).reshape(10, 1, 1), (z_out - z_in))\n",
    "    x_seq = seqvae.decode(z_seq.reshape(100, 100)).array\\\n",
    "            .reshape(10, 10, 3, 128, 128).transpose(1, 3, 0, 4, 2).reshape(10 * 128, 10 * 128, 3)\n",
    "    \n",
    "x_seq = np.clip(x_seq * 255, 0, 255).astype(np.uint8)\n",
    "Image.fromarray(x_seq).save('seqVAE_seq.png')"
   ]
  },
  {
   "cell_type": "code",
   "execution_count": 11,
   "metadata": {},
   "outputs": [],
   "source": [
    "with chainer.using_config('train', False), chainer.no_backprop_mode():\n",
    "    z_in = vae.encode(seq_in_images)[0].array\n",
    "    z_out = vae.encode(seq_out_images)[0].array\n",
    "    z_seq = z_in + np.kron(np.linspace(0, 1, 10).astype(np.float32).reshape(10, 1, 1), (z_out - z_in))\n",
    "    x_seq = vae.decode(z_seq.reshape(100, 100)).array\\\n",
    "            .reshape(10, 10, 3, 128, 128).transpose(1, 3, 0, 4, 2).reshape(10 * 128, 10 * 128, 3)\n",
    "    \n",
    "x_seq = np.clip(x_seq * 255, 0, 255).astype(np.uint8)\n",
    "Image.fromarray(x_seq).save('VAE_seq.png')"
   ]
  }
 ],
 "metadata": {
  "kernelspec": {
   "display_name": "Python 3",
   "language": "python",
   "name": "python3"
  },
  "language_info": {
   "codemirror_mode": {
    "name": "ipython",
    "version": 3
   },
   "file_extension": ".py",
   "mimetype": "text/x-python",
   "name": "python",
   "nbconvert_exporter": "python",
   "pygments_lexer": "ipython3",
   "version": "3.7.1"
  }
 },
 "nbformat": 4,
 "nbformat_minor": 2
}
